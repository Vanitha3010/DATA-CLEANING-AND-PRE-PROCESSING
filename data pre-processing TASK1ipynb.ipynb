{
  "nbformat": 4,
  "nbformat_minor": 0,
  "metadata": {
    "colab": {
      "provenance": []
    },
    "kernelspec": {
      "name": "python3",
      "display_name": "Python 3"
    },
    "language_info": {
      "name": "python"
    }
  },
  "cells": [
    {
      "cell_type": "markdown",
      "source": [
        "#1. Load the Dataset\n"
      ],
      "metadata": {
        "id": "XHXSIlA7qbZN"
      }
    },
    {
      "cell_type": "code",
      "execution_count": 50,
      "metadata": {
        "id": "-tXjEa6_Zo1l"
      },
      "outputs": [],
      "source": [
        "import pandas as pd\n",
        "df=pd.read_csv('sales_data_sample.csv')"
      ]
    },
    {
      "cell_type": "markdown",
      "source": [
        "#2. Preview the Data"
      ],
      "metadata": {
        "id": "vS6QteU9qffL"
      }
    },
    {
      "cell_type": "code",
      "source": [
        "print(df.head())"
      ],
      "metadata": {
        "colab": {
          "base_uri": "https://localhost:8080/"
        },
        "id": "BXwzCUlJqjrq",
        "outputId": "75302f75-98aa-4106-edc8-86792c0b7143"
      },
      "execution_count": 51,
      "outputs": [
        {
          "output_type": "stream",
          "name": "stdout",
          "text": [
            "   ORDERNUMBER  QUANTITYORDERED  PRICEEACH  ORDERLINENUMBER    SALES  \\\n",
            "0        10107               30      95.70                2  2871.00   \n",
            "1        10121               34      81.35                5  2765.90   \n",
            "2        10134               41      94.74                2  3884.34   \n",
            "3        10145               45      83.26                6  3746.70   \n",
            "4        10159               49     100.00               14  5205.27   \n",
            "\n",
            "          ORDERDATE   STATUS  QTR_ID  MONTH_ID  YEAR_ID  ...  \\\n",
            "0    2/24/2003 0:00  Shipped       1         2     2003  ...   \n",
            "1  05-07-2003 00:00  Shipped       2         5     2003  ...   \n",
            "2  07-01-2003 00:00  Shipped       3         7     2003  ...   \n",
            "3    8/25/2003 0:00  Shipped       3         8     2003  ...   \n",
            "4  10-10-2003 00:00  Shipped       4        10     2003  ...   \n",
            "\n",
            "                    ADDRESSLINE1  ADDRESSLINE2           CITY STATE  \\\n",
            "0        897 Long Airport Avenue           NaN            NYC    NY   \n",
            "1             59 rue de l'Abbaye           NaN          Reims   NaN   \n",
            "2  27 rue du Colonel Pierre Avia           NaN          Paris   NaN   \n",
            "3             78934 Hillside Dr.           NaN       Pasadena    CA   \n",
            "4                7734 Strong St.           NaN  San Francisco    CA   \n",
            "\n",
            "  POSTALCODE COUNTRY TERRITORY CONTACTLASTNAME CONTACTFIRSTNAME DEALSIZE  \n",
            "0      10022     USA       NaN              Yu             Kwai    Small  \n",
            "1      51100  France      EMEA         Henriot             Paul    Small  \n",
            "2      75508  France      EMEA        Da Cunha           Daniel   Medium  \n",
            "3      90003     USA       NaN           Young            Julie   Medium  \n",
            "4        NaN     USA       NaN           Brown            Julie   Medium  \n",
            "\n",
            "[5 rows x 25 columns]\n"
          ]
        }
      ]
    },
    {
      "cell_type": "code",
      "source": [
        "print(df.info())"
      ],
      "metadata": {
        "colab": {
          "base_uri": "https://localhost:8080/"
        },
        "id": "hHrq1lcGqpj-",
        "outputId": "110f7c23-24d7-4804-d52b-82cf2b1d4337"
      },
      "execution_count": 25,
      "outputs": [
        {
          "output_type": "stream",
          "name": "stdout",
          "text": [
            "<class 'pandas.core.frame.DataFrame'>\n",
            "RangeIndex: 2823 entries, 0 to 2822\n",
            "Data columns (total 25 columns):\n",
            " #   Column            Non-Null Count  Dtype  \n",
            "---  ------            --------------  -----  \n",
            " 0   ORDERNUMBER       2823 non-null   int64  \n",
            " 1   QUANTITYORDERED   2823 non-null   int64  \n",
            " 2   PRICEEACH         2823 non-null   float64\n",
            " 3   ORDERLINENUMBER   2823 non-null   int64  \n",
            " 4   SALES             2823 non-null   float64\n",
            " 5   ORDERDATE         2823 non-null   object \n",
            " 6   STATUS            2823 non-null   object \n",
            " 7   QTR_ID            2823 non-null   int64  \n",
            " 8   MONTH_ID          2823 non-null   int64  \n",
            " 9   YEAR_ID           2823 non-null   int64  \n",
            " 10  PRODUCTLINE       2823 non-null   object \n",
            " 11  MSRP              2823 non-null   int64  \n",
            " 12  PRODUCTCODE       2823 non-null   object \n",
            " 13  CUSTOMERNAME      2823 non-null   object \n",
            " 14  PHONE             2823 non-null   object \n",
            " 15  ADDRESSLINE1      2823 non-null   object \n",
            " 16  ADDRESSLINE2      302 non-null    object \n",
            " 17  CITY              2823 non-null   object \n",
            " 18  STATE             1337 non-null   object \n",
            " 19  POSTALCODE        2747 non-null   object \n",
            " 20  COUNTRY           2823 non-null   object \n",
            " 21  TERRITORY         1749 non-null   object \n",
            " 22  CONTACTLASTNAME   2823 non-null   object \n",
            " 23  CONTACTFIRSTNAME  2823 non-null   object \n",
            " 24  DEALSIZE          2823 non-null   object \n",
            "dtypes: float64(2), int64(7), object(16)\n",
            "memory usage: 551.5+ KB\n",
            "None\n"
          ]
        }
      ]
    },
    {
      "cell_type": "markdown",
      "source": [
        "#Cleaning Process\n",
        "#3. Handle Missing Values"
      ],
      "metadata": {
        "id": "H1VQOdyQrXN2"
      }
    },
    {
      "cell_type": "code",
      "source": [
        "print(df.isnull().sum())\n",
        "df=df.dropna()"
      ],
      "metadata": {
        "colab": {
          "base_uri": "https://localhost:8080/"
        },
        "id": "hynqtsgNrr_v",
        "outputId": "4988503b-d6dc-4059-9a4f-c58bd99b3b6a"
      },
      "execution_count": 29,
      "outputs": [
        {
          "output_type": "stream",
          "name": "stdout",
          "text": [
            "ORDERNUMBER         0\n",
            "QUANTITYORDERED     0\n",
            "PRICEEACH           0\n",
            "ORDERLINENUMBER     0\n",
            "SALES               0\n",
            "ORDERDATE           0\n",
            "STATUS              0\n",
            "QTR_ID              0\n",
            "MONTH_ID            0\n",
            "YEAR_ID             0\n",
            "PRODUCTLINE         0\n",
            "MSRP                0\n",
            "PRODUCTCODE         0\n",
            "CUSTOMERNAME        0\n",
            "PHONE               0\n",
            "ADDRESSLINE1        0\n",
            "ADDRESSLINE2        0\n",
            "CITY                0\n",
            "STATE               0\n",
            "POSTALCODE          0\n",
            "COUNTRY             0\n",
            "TERRITORY           0\n",
            "CONTACTLASTNAME     0\n",
            "CONTACTFIRSTNAME    0\n",
            "DEALSIZE            0\n",
            "dtype: int64\n"
          ]
        }
      ]
    },
    {
      "cell_type": "markdown",
      "source": [
        "#4. Remove Duplicates"
      ],
      "metadata": {
        "id": "qz4aTFhcscrZ"
      }
    },
    {
      "cell_type": "code",
      "source": [
        "df_cleaned=df.drop_duplicates()\n"
      ],
      "metadata": {
        "id": "5J_zXmfjrWP0"
      },
      "execution_count": 63,
      "outputs": []
    },
    {
      "cell_type": "markdown",
      "source": [
        "#5. Standardize Text Values\n",
        "# Convert date formats to a consistent type\n",
        "# Rename column headers to be clean and uniform.\n",
        "# Check and fix data types"
      ],
      "metadata": {
        "id": "Dv3lZGNNsuOm"
      }
    },
    {
      "cell_type": "code",
      "source": [
        "df['ORDERDATE'] = pd.to_datetime(df['ORDERDATE'],errors='coerce',dayfirst=True)\n",
        "df_cleaned['STATUS'] = df_cleaned['STATUS'].str.strip().str.lower()\n",
        "df_cleaned['COUNTRY'] = df_cleaned['COUNTRY'].str.strip().str.title()\n",
        "df_cleaned['DEALSIZE'] = df_cleaned['DEALSIZE'].str.strip().str.title()\n",
        "df_cleaned.columns = df_cleaned.columns.str.strip().str.lower().str.replace(\" \", \"_\")\n",
        "if df_cleaned['postalcode'].dtype != 'object':\n",
        "  df_cleaned['postalcode'] = df_cleaned['postalcode'].astype(str)\n",
        "print(df_cleaned)"
      ],
      "metadata": {
        "colab": {
          "base_uri": "https://localhost:8080/"
        },
        "id": "EJWi56yYswJQ",
        "outputId": "607cbc51-8ca7-4d7c-e8b2-8290a8a5c632"
      },
      "execution_count": 64,
      "outputs": [
        {
          "output_type": "stream",
          "name": "stdout",
          "text": [
            "      ordernumber  quantityordered  priceeach  orderlinenumber    sales  \\\n",
            "0           10107               30      95.70                2  2871.00   \n",
            "1           10121               34      81.35                5  2765.90   \n",
            "2           10134               41      94.74                2  3884.34   \n",
            "3           10145               45      83.26                6  3746.70   \n",
            "4           10159               49     100.00               14  5205.27   \n",
            "...           ...              ...        ...              ...      ...   \n",
            "2818        10350               20     100.00               15  2244.40   \n",
            "2819        10373               29     100.00                1  3978.51   \n",
            "2820        10386               43     100.00                4  5417.57   \n",
            "2821        10397               34      62.24                1  2116.16   \n",
            "2822        10414               47      65.52                9  3079.44   \n",
            "\n",
            "      orderdate    status  qtr_id  month_id  year_id  ...  \\\n",
            "0    2003-02-24   shipped       1         2     2003  ...   \n",
            "1           NaT   shipped       2         5     2003  ...   \n",
            "2           NaT   shipped       3         7     2003  ...   \n",
            "3    2003-08-25   shipped       3         8     2003  ...   \n",
            "4           NaT   shipped       4        10     2003  ...   \n",
            "...         ...       ...     ...       ...      ...  ...   \n",
            "2818        NaT   shipped       4        12     2004  ...   \n",
            "2819 2005-01-31   shipped       1         1     2005  ...   \n",
            "2820        NaT  resolved       1         3     2005  ...   \n",
            "2821 2005-03-28   shipped       1         3     2005  ...   \n",
            "2822        NaT   on hold       2         5     2005  ...   \n",
            "\n",
            "                       addressline1  addressline2           city state  \\\n",
            "0           897 Long Airport Avenue           NaN            NYC    NY   \n",
            "1                59 rue de l'Abbaye           NaN          Reims   NaN   \n",
            "2     27 rue du Colonel Pierre Avia           NaN          Paris   NaN   \n",
            "3                78934 Hillside Dr.           NaN       Pasadena    CA   \n",
            "4                   7734 Strong St.           NaN  San Francisco    CA   \n",
            "...                             ...           ...            ...   ...   \n",
            "2818             C/ Moralzarzal, 86           NaN         Madrid   NaN   \n",
            "2819                    Torikatu 38           NaN           Oulu   NaN   \n",
            "2820             C/ Moralzarzal, 86           NaN         Madrid   NaN   \n",
            "2821          1 rue Alsace-Lorraine           NaN       Toulouse   NaN   \n",
            "2822             8616 Spinnaker Dr.           NaN         Boston    MA   \n",
            "\n",
            "     postalcode  country territory contactlastname contactfirstname dealsize  \n",
            "0         10022      Usa       NaN              Yu             Kwai    Small  \n",
            "1         51100   France      EMEA         Henriot             Paul    Small  \n",
            "2         75508   France      EMEA        Da Cunha           Daniel   Medium  \n",
            "3         90003      Usa       NaN           Young            Julie   Medium  \n",
            "4           NaN      Usa       NaN           Brown            Julie   Medium  \n",
            "...         ...      ...       ...             ...              ...      ...  \n",
            "2818      28034    Spain      EMEA          Freyre            Diego    Small  \n",
            "2819      90110  Finland      EMEA       Koskitalo           Pirkko   Medium  \n",
            "2820      28034    Spain      EMEA          Freyre            Diego   Medium  \n",
            "2821      31000   France      EMEA          Roulet          Annette    Small  \n",
            "2822      51003      Usa       NaN         Yoshido             Juri   Medium  \n",
            "\n",
            "[2823 rows x 25 columns]\n"
          ]
        }
      ]
    }
  ]
}